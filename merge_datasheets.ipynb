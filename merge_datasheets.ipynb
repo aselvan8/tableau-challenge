{
 "cells": [
  {
   "cell_type": "code",
   "execution_count": 1,
   "metadata": {},
   "outputs": [],
   "source": [
    "import pandas as pd\n",
    "import os\n",
    "import glob"
   ]
  },
  {
   "cell_type": "code",
   "execution_count": 2,
   "metadata": {},
   "outputs": [
    {
     "data": {
      "text/plain": [
       "'C:\\\\Users\\\\uv9374\\\\Documents\\\\GT Bootcamp\\\\HW\\\\tableau-challenge'"
      ]
     },
     "execution_count": 2,
     "metadata": {},
     "output_type": "execute_result"
    }
   ],
   "source": [
    "# get to the current working directory\n",
    "os.getcwd()"
   ]
  },
  {
   "cell_type": "code",
   "execution_count": 3,
   "metadata": {},
   "outputs": [
    {
     "data": {
      "text/plain": [
       "['.ipynb_checkpoints',\n",
       " 'citi_bike_2020_01_08.csv',\n",
       " 'data',\n",
       " 'Images',\n",
       " 'merge_datasheets.ipynb',\n",
       " 'README.md']"
      ]
     },
     "execution_count": 3,
     "metadata": {},
     "output_type": "execute_result"
    }
   ],
   "source": [
    "files = os.listdir()\n",
    "files"
   ]
  },
  {
   "cell_type": "code",
   "execution_count": 4,
   "metadata": {},
   "outputs": [
    {
     "data": {
      "text/html": [
       "<div>\n",
       "<style scoped>\n",
       "    .dataframe tbody tr th:only-of-type {\n",
       "        vertical-align: middle;\n",
       "    }\n",
       "\n",
       "    .dataframe tbody tr th {\n",
       "        vertical-align: top;\n",
       "    }\n",
       "\n",
       "    .dataframe thead th {\n",
       "        text-align: right;\n",
       "    }\n",
       "</style>\n",
       "<table border=\"1\" class=\"dataframe\">\n",
       "  <thead>\n",
       "    <tr style=\"text-align: right;\">\n",
       "      <th></th>\n",
       "      <th>tripduration</th>\n",
       "      <th>starttime</th>\n",
       "      <th>stoptime</th>\n",
       "      <th>start station id</th>\n",
       "      <th>start station name</th>\n",
       "      <th>start station latitude</th>\n",
       "      <th>start station longitude</th>\n",
       "      <th>end station id</th>\n",
       "      <th>end station name</th>\n",
       "      <th>end station latitude</th>\n",
       "      <th>end station longitude</th>\n",
       "      <th>bikeid</th>\n",
       "      <th>usertype</th>\n",
       "      <th>birth year</th>\n",
       "      <th>gender</th>\n",
       "    </tr>\n",
       "  </thead>\n",
       "  <tbody>\n",
       "    <tr>\n",
       "      <th>0</th>\n",
       "      <td>201</td>\n",
       "      <td>2019-01-01 03:09:09.7110</td>\n",
       "      <td>2019-01-01 03:12:30.8790</td>\n",
       "      <td>3183</td>\n",
       "      <td>Exchange Place</td>\n",
       "      <td>40.716247</td>\n",
       "      <td>-74.033459</td>\n",
       "      <td>3214</td>\n",
       "      <td>Essex Light Rail</td>\n",
       "      <td>40.712774</td>\n",
       "      <td>-74.036486</td>\n",
       "      <td>29612</td>\n",
       "      <td>Subscriber</td>\n",
       "      <td>1993</td>\n",
       "      <td>1</td>\n",
       "    </tr>\n",
       "    <tr>\n",
       "      <th>1</th>\n",
       "      <td>505</td>\n",
       "      <td>2019-01-01 05:18:00.1060</td>\n",
       "      <td>2019-01-01 05:26:25.9050</td>\n",
       "      <td>3183</td>\n",
       "      <td>Exchange Place</td>\n",
       "      <td>40.716247</td>\n",
       "      <td>-74.033459</td>\n",
       "      <td>3638</td>\n",
       "      <td>Washington St</td>\n",
       "      <td>40.724294</td>\n",
       "      <td>-74.035483</td>\n",
       "      <td>29213</td>\n",
       "      <td>Subscriber</td>\n",
       "      <td>1972</td>\n",
       "      <td>2</td>\n",
       "    </tr>\n",
       "    <tr>\n",
       "      <th>2</th>\n",
       "      <td>756</td>\n",
       "      <td>2019-01-01 10:36:33.3400</td>\n",
       "      <td>2019-01-01 10:49:10.2600</td>\n",
       "      <td>3183</td>\n",
       "      <td>Exchange Place</td>\n",
       "      <td>40.716247</td>\n",
       "      <td>-74.033459</td>\n",
       "      <td>3192</td>\n",
       "      <td>Liberty Light Rail</td>\n",
       "      <td>40.711242</td>\n",
       "      <td>-74.055701</td>\n",
       "      <td>26164</td>\n",
       "      <td>Subscriber</td>\n",
       "      <td>1985</td>\n",
       "      <td>1</td>\n",
       "    </tr>\n",
       "    <tr>\n",
       "      <th>3</th>\n",
       "      <td>1575</td>\n",
       "      <td>2019-01-01 12:43:38.6430</td>\n",
       "      <td>2019-01-01 13:09:54.5280</td>\n",
       "      <td>3183</td>\n",
       "      <td>Exchange Place</td>\n",
       "      <td>40.716247</td>\n",
       "      <td>-74.033459</td>\n",
       "      <td>3638</td>\n",
       "      <td>Washington St</td>\n",
       "      <td>40.724294</td>\n",
       "      <td>-74.035483</td>\n",
       "      <td>29672</td>\n",
       "      <td>Customer</td>\n",
       "      <td>1969</td>\n",
       "      <td>0</td>\n",
       "    </tr>\n",
       "    <tr>\n",
       "      <th>4</th>\n",
       "      <td>1566</td>\n",
       "      <td>2019-01-01 12:43:39.6010</td>\n",
       "      <td>2019-01-01 13:09:46.5100</td>\n",
       "      <td>3183</td>\n",
       "      <td>Exchange Place</td>\n",
       "      <td>40.716247</td>\n",
       "      <td>-74.033459</td>\n",
       "      <td>3638</td>\n",
       "      <td>Washington St</td>\n",
       "      <td>40.724294</td>\n",
       "      <td>-74.035483</td>\n",
       "      <td>29522</td>\n",
       "      <td>Customer</td>\n",
       "      <td>1969</td>\n",
       "      <td>0</td>\n",
       "    </tr>\n",
       "  </tbody>\n",
       "</table>\n",
       "</div>"
      ],
      "text/plain": [
       "   tripduration                 starttime                  stoptime  \\\n",
       "0           201  2019-01-01 03:09:09.7110  2019-01-01 03:12:30.8790   \n",
       "1           505  2019-01-01 05:18:00.1060  2019-01-01 05:26:25.9050   \n",
       "2           756  2019-01-01 10:36:33.3400  2019-01-01 10:49:10.2600   \n",
       "3          1575  2019-01-01 12:43:38.6430  2019-01-01 13:09:54.5280   \n",
       "4          1566  2019-01-01 12:43:39.6010  2019-01-01 13:09:46.5100   \n",
       "\n",
       "   start station id start station name  start station latitude  \\\n",
       "0              3183     Exchange Place               40.716247   \n",
       "1              3183     Exchange Place               40.716247   \n",
       "2              3183     Exchange Place               40.716247   \n",
       "3              3183     Exchange Place               40.716247   \n",
       "4              3183     Exchange Place               40.716247   \n",
       "\n",
       "   start station longitude  end station id    end station name  \\\n",
       "0               -74.033459            3214    Essex Light Rail   \n",
       "1               -74.033459            3638       Washington St   \n",
       "2               -74.033459            3192  Liberty Light Rail   \n",
       "3               -74.033459            3638       Washington St   \n",
       "4               -74.033459            3638       Washington St   \n",
       "\n",
       "   end station latitude  end station longitude  bikeid    usertype  \\\n",
       "0             40.712774             -74.036486   29612  Subscriber   \n",
       "1             40.724294             -74.035483   29213  Subscriber   \n",
       "2             40.711242             -74.055701   26164  Subscriber   \n",
       "3             40.724294             -74.035483   29672    Customer   \n",
       "4             40.724294             -74.035483   29522    Customer   \n",
       "\n",
       "   birth year  gender  \n",
       "0        1993       1  \n",
       "1        1972       2  \n",
       "2        1985       1  \n",
       "3        1969       0  \n",
       "4        1969       0  "
      ]
     },
     "execution_count": 4,
     "metadata": {},
     "output_type": "execute_result"
    }
   ],
   "source": [
    "combined_csv = pd.concat([pd.read_csv(f) for f in glob.glob('data/JC*.csv')], ignore_index = True)\n",
    "combined_csv.head()"
   ]
  },
  {
   "cell_type": "code",
   "execution_count": 5,
   "metadata": {},
   "outputs": [
    {
     "data": {
      "text/plain": [
       "Index(['tripduration', 'starttime', 'stoptime', 'start station id',\n",
       "       'start station name', 'start station latitude',\n",
       "       'start station longitude', 'end station id', 'end station name',\n",
       "       'end station latitude', 'end station longitude', 'bikeid', 'usertype',\n",
       "       'birth year', 'gender'],\n",
       "      dtype='object')"
      ]
     },
     "execution_count": 5,
     "metadata": {},
     "output_type": "execute_result"
    }
   ],
   "source": [
    "combined_csv.columns"
   ]
  },
  {
   "cell_type": "code",
   "execution_count": 6,
   "metadata": {},
   "outputs": [
    {
     "name": "stdout",
     "output_type": "stream",
     "text": [
      "<class 'pandas.core.frame.DataFrame'>\n",
      "RangeIndex: 624861 entries, 0 to 624860\n",
      "Data columns (total 15 columns):\n",
      " #   Column                   Non-Null Count   Dtype  \n",
      "---  ------                   --------------   -----  \n",
      " 0   tripduration             624861 non-null  int64  \n",
      " 1   starttime                624861 non-null  object \n",
      " 2   stoptime                 624861 non-null  object \n",
      " 3   start station id         624861 non-null  int64  \n",
      " 4   start station name       624861 non-null  object \n",
      " 5   start station latitude   624861 non-null  float64\n",
      " 6   start station longitude  624861 non-null  float64\n",
      " 7   end station id           624861 non-null  int64  \n",
      " 8   end station name         624861 non-null  object \n",
      " 9   end station latitude     624861 non-null  float64\n",
      " 10  end station longitude    624861 non-null  float64\n",
      " 11  bikeid                   624861 non-null  int64  \n",
      " 12  usertype                 624861 non-null  object \n",
      " 13  birth year               624861 non-null  int64  \n",
      " 14  gender                   624861 non-null  int64  \n",
      "dtypes: float64(4), int64(6), object(5)\n",
      "memory usage: 71.5+ MB\n"
     ]
    }
   ],
   "source": [
    "combined_csv.info()"
   ]
  },
  {
   "cell_type": "code",
   "execution_count": 8,
   "metadata": {},
   "outputs": [
    {
     "data": {
      "text/html": [
       "<div>\n",
       "<style scoped>\n",
       "    .dataframe tbody tr th:only-of-type {\n",
       "        vertical-align: middle;\n",
       "    }\n",
       "\n",
       "    .dataframe tbody tr th {\n",
       "        vertical-align: top;\n",
       "    }\n",
       "\n",
       "    .dataframe thead th {\n",
       "        text-align: right;\n",
       "    }\n",
       "</style>\n",
       "<table border=\"1\" class=\"dataframe\">\n",
       "  <thead>\n",
       "    <tr style=\"text-align: right;\">\n",
       "      <th></th>\n",
       "      <th>tripduration</th>\n",
       "      <th>starttime</th>\n",
       "      <th>stoptime</th>\n",
       "      <th>start station id</th>\n",
       "      <th>start station name</th>\n",
       "      <th>start station latitude</th>\n",
       "      <th>start station longitude</th>\n",
       "      <th>end station id</th>\n",
       "      <th>end station name</th>\n",
       "      <th>end station latitude</th>\n",
       "      <th>end station longitude</th>\n",
       "      <th>bikeid</th>\n",
       "      <th>usertype</th>\n",
       "      <th>birth year</th>\n",
       "      <th>gender</th>\n",
       "    </tr>\n",
       "  </thead>\n",
       "  <tbody>\n",
       "    <tr>\n",
       "      <th>562920</th>\n",
       "      <td>706</td>\n",
       "      <td>2020-07-17 08:49:47.8100</td>\n",
       "      <td>2020-07-17 09:01:33.8810</td>\n",
       "      <td>3186</td>\n",
       "      <td>Grove St PATH</td>\n",
       "      <td>40.719586</td>\n",
       "      <td>-74.043117</td>\n",
       "      <td>3475</td>\n",
       "      <td>Liberty State Park</td>\n",
       "      <td>0.0</td>\n",
       "      <td>0.0</td>\n",
       "      <td>40831</td>\n",
       "      <td>Subscriber</td>\n",
       "      <td>1991</td>\n",
       "      <td>1</td>\n",
       "    </tr>\n",
       "    <tr>\n",
       "      <th>567059</th>\n",
       "      <td>546</td>\n",
       "      <td>2020-07-20 08:53:36.6680</td>\n",
       "      <td>2020-07-20 09:02:42.8980</td>\n",
       "      <td>3694</td>\n",
       "      <td>Jackson Square</td>\n",
       "      <td>40.711130</td>\n",
       "      <td>-74.078900</td>\n",
       "      <td>3475</td>\n",
       "      <td>Liberty State Park</td>\n",
       "      <td>0.0</td>\n",
       "      <td>0.0</td>\n",
       "      <td>44683</td>\n",
       "      <td>Subscriber</td>\n",
       "      <td>1997</td>\n",
       "      <td>1</td>\n",
       "    </tr>\n",
       "  </tbody>\n",
       "</table>\n",
       "</div>"
      ],
      "text/plain": [
       "        tripduration                 starttime                  stoptime  \\\n",
       "562920           706  2020-07-17 08:49:47.8100  2020-07-17 09:01:33.8810   \n",
       "567059           546  2020-07-20 08:53:36.6680  2020-07-20 09:02:42.8980   \n",
       "\n",
       "        start station id start station name  start station latitude  \\\n",
       "562920              3186      Grove St PATH               40.719586   \n",
       "567059              3694     Jackson Square               40.711130   \n",
       "\n",
       "        start station longitude  end station id    end station name  \\\n",
       "562920               -74.043117            3475  Liberty State Park   \n",
       "567059               -74.078900            3475  Liberty State Park   \n",
       "\n",
       "        end station latitude  end station longitude  bikeid    usertype  \\\n",
       "562920                   0.0                    0.0   40831  Subscriber   \n",
       "567059                   0.0                    0.0   44683  Subscriber   \n",
       "\n",
       "        birth year  gender  \n",
       "562920        1991       1  \n",
       "567059        1997       1  "
      ]
     },
     "execution_count": 8,
     "metadata": {},
     "output_type": "execute_result"
    }
   ],
   "source": [
    "missing_lat_lon = combined_csv[(combined_csv['start station latitude']==0) |\n",
    "                (combined_csv['start station longitude']==0) |                         \n",
    "                (combined_csv['end station latitude']==0) |\n",
    "                (combined_csv['end station longitude']==0)]\n",
    "missing_lat_lon"
   ]
  },
  {
   "cell_type": "code",
   "execution_count": 9,
   "metadata": {},
   "outputs": [],
   "source": [
    "combined_csv = combined_csv[combined_csv['end station latitude'] != 0]"
   ]
  },
  {
   "cell_type": "code",
   "execution_count": 10,
   "metadata": {},
   "outputs": [],
   "source": [
    "combined_csv.to_csv(\"citi_bike_2019_2020.csv\", index=False)"
   ]
  }
 ],
 "metadata": {
  "kernelspec": {
   "display_name": "Python 3.6.10 64-bit ('PythonData': conda)",
   "language": "python",
   "name": "python361064bitpythondataconda3ce15943e36d47fe80658a877842692c"
  },
  "language_info": {
   "codemirror_mode": {
    "name": "ipython",
    "version": 3
   },
   "file_extension": ".py",
   "mimetype": "text/x-python",
   "name": "python",
   "nbconvert_exporter": "python",
   "pygments_lexer": "ipython3",
   "version": "3.6.10"
  }
 },
 "nbformat": 4,
 "nbformat_minor": 4
}
